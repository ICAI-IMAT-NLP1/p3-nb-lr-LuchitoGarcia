{
 "cells": [
  {
   "cell_type": "code",
   "execution_count": 2,
   "metadata": {},
   "outputs": [],
   "source": [
    "import torch\n",
    "text = [\"word1\", \"word2\", \"word1\", \"word4\"]\n",
    "vocab = {\"word1\": 0, \"word2\": 1, \"word3\": 2}\n",
    "bow: torch.Tensor = torch.zeros(size = (len(text),), dtype=int)\n",
    "binary = False\n"
   ]
  },
  {
   "cell_type": "code",
   "execution_count": 16,
   "metadata": {},
   "outputs": [
    {
     "data": {
      "text/plain": [
       "tensor([2, 1, 0, 0])"
      ]
     },
     "execution_count": 16,
     "metadata": {},
     "output_type": "execute_result"
    }
   ],
   "source": [
    "for word in text:\n",
    "    if word in vocab:\n",
    "        if not binary:\n",
    "            bow[vocab[word]] += 1\n",
    "        else:\n",
    "            bow[vocab[word]] = 1\n",
    "bow"
   ]
  },
  {
   "cell_type": "code",
   "execution_count": 40,
   "metadata": {},
   "outputs": [
    {
     "name": "stdout",
     "output_type": "stream",
     "text": [
      "tp 2\n",
      "tn 1\n",
      "fp 1\n",
      "fn 1\n"
     ]
    },
    {
     "data": {
      "text/plain": [
       "{'accuracy': 0.6,\n",
       " 'precision': 0.6666666666666666,\n",
       " 'recall': 0.6666666666666666,\n",
       " 'f1': 0.6666666666666666}"
      ]
     },
     "execution_count": 40,
     "metadata": {},
     "output_type": "execute_result"
    }
   ],
   "source": [
    "metrics = {}\n",
    "predictions = torch.tensor([1, 0, 1, 1, 0])\n",
    "labels = torch.tensor([1, 0, 0, 1, 1])\n",
    "tp = 0\n",
    "tn = 0\n",
    "fp = 0\n",
    "fn = 0\n",
    "\n",
    "for i in range(predictions.shape[0]):\n",
    "    true = labels[i]\n",
    "    pred = predictions[i]\n",
    "    if true == pred and true:\n",
    "        tp += 1\n",
    "    elif true == pred and not true:\n",
    "        tn += 1\n",
    "    elif true != pred and true:\n",
    "        fn += 1\n",
    "    elif true != pred and not true:\n",
    "        fp += 1\n",
    "\n",
    "print(\"tp\", tp)\n",
    "print(\"tn\", tn)\n",
    "print(\"fp\", fp)\n",
    "print(\"fn\", fn)\n",
    "\n",
    "\n",
    "accuracy = (tn + tp) / (tn + tp + fn + fp)\n",
    "precision = tp / (tp + fp)\n",
    "recall = tp / (tp + fn)\n",
    "f1 = 2 * precision * recall / (precision + recall)\n",
    "metrics[\"accuracy\"] = accuracy\n",
    "metrics[\"precision\"] = precision\n",
    "metrics[\"recall\"] = recall\n",
    "metrics[\"f1\"] = f1\n",
    "\n",
    "metrics\n"
   ]
  },
  {
   "cell_type": "code",
   "execution_count": 8,
   "metadata": {},
   "outputs": [
    {
     "data": {
      "text/plain": [
       "{0: 0.6666666666666666, 1: 0.3333333333333333}"
      ]
     },
     "execution_count": 8,
     "metadata": {},
     "output_type": "execute_result"
    }
   ],
   "source": [
    "import torch\n",
    "labels = torch.tensor([0, 1, 0], dtype=torch.int)\n",
    "\n",
    "N: int = labels.shape[0]\n",
    "class_priors = {}\n",
    "for i in range(N):\n",
    "    label = labels[i].item()\n",
    "    if label not in class_priors:\n",
    "        class_priors[label] = 1 / N\n",
    "    else:\n",
    "        class_priors[label] += 1 / N\n",
    "    \n",
    "\"\"\"for prior in class_priors:\n",
    "    class_priors[prior] = prior / N<\n",
    "\"\"\"\n",
    "class_priors"
   ]
  },
  {
   "cell_type": "code",
   "execution_count": 36,
   "metadata": {},
   "outputs": [
    {
     "name": "stdout",
     "output_type": "stream",
     "text": [
      "dict_keys([0, 1])\n"
     ]
    },
    {
     "data": {
      "text/plain": [
       "tensor([True, True, True])"
      ]
     },
     "execution_count": 36,
     "metadata": {},
     "output_type": "execute_result"
    }
   ],
   "source": [
    "import torch\n",
    "features = torch.tensor([[1, 1, 0], [0, 1, 1]], dtype=torch.float32)\n",
    "labels = torch.tensor([0, 1], dtype=torch.int)\n",
    "\n",
    "class_word_counts = {}\n",
    "delta = 1\n",
    "total_word_count: int = 0\n",
    "total_word_count += features.sum().item()\n",
    "final = torch.tensor([[2 / 5, 2 / 5, 1 / 5],[1 / 5, 2 / 5, 2 / 5] ], dtype=torch.float32)\n",
    "\n",
    "\n",
    "\n",
    "for i in range(features.shape[0]):\n",
    "    feature = features[i]\n",
    "    label = labels[i].item()\n",
    "\n",
    "    if label not in class_word_counts:\n",
    "            class_word_counts[label] = torch.zeros(size=(features.shape[1],),dtype=torch.float32)\n",
    "\n",
    "    for j in range(features.shape[1]):\n",
    "        class_word_counts[label][j] = (delta + feature[j]) / (delta + total_word_count)\n",
    "\n",
    "print(class_word_counts.keys())\n"
   ]
  }
 ],
 "metadata": {
  "kernelspec": {
   "display_name": "base",
   "language": "python",
   "name": "python3"
  },
  "language_info": {
   "codemirror_mode": {
    "name": "ipython",
    "version": 3
   },
   "file_extension": ".py",
   "mimetype": "text/x-python",
   "name": "python",
   "nbconvert_exporter": "python",
   "pygments_lexer": "ipython3",
   "version": "3.9.18"
  }
 },
 "nbformat": 4,
 "nbformat_minor": 2
}
